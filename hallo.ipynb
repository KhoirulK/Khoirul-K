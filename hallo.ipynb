{
 "cells": [
  {
   "cell_type": "code",
   "execution_count": 5,
   "id": "b8e77e34-273e-441e-8d5c-816b8e108b71",
   "metadata": {},
   "outputs": [
    {
     "name": "stdout",
     "output_type": "stream",
     "text": [
      "Hello World\n"
     ]
    }
   ],
   "source": [
    "print(\"Hello World\")"
   ]
  },
  {
   "cell_type": "markdown",
   "id": "77694884-993a-4eb2-8d01-7502f5a64828",
   "metadata": {},
   "source": [
    "# Khoirul Kholqi\n",
    "## 20/462143/PA/20115\n",
    "### Geofisika 2020"
   ]
  },
  {
   "cell_type": "code",
   "execution_count": 10,
   "id": "ab2553e4-412e-4819-8692-d45a20e5d28d",
   "metadata": {},
   "outputs": [],
   "source": [
    "#|=====================================|\n",
    "#                                      |\n",
    "#           Program halo.py            |\n",
    "#    by khoirulkholqi@mail.ugm.ac.id   |\n",
    "#                                      |\n",
    "#|=====================================|"
   ]
  },
  {
   "cell_type": "code",
   "execution_count": null,
   "id": "3c3dc804-5ca4-45a2-aee1-5fc3ef517c48",
   "metadata": {},
   "outputs": [],
   "source": []
  }
 ],
 "metadata": {
  "kernelspec": {
   "display_name": "Python 3",
   "language": "python",
   "name": "python3"
  },
  "language_info": {
   "codemirror_mode": {
    "name": "ipython",
    "version": 3
   },
   "file_extension": ".py",
   "mimetype": "text/x-python",
   "name": "python",
   "nbconvert_exporter": "python",
   "pygments_lexer": "ipython3",
   "version": "3.9.1"
  }
 },
 "nbformat": 4,
 "nbformat_minor": 5
}
